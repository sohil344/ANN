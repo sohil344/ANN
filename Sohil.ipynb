# -*- coding: utf-8 -*-
"""
Created on Fri Jun 23 09:53:48 2023

@author: SCC528789
"""
import pandas as pd
