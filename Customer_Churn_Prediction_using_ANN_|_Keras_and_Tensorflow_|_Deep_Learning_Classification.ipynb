{
  "nbformat": 4,
  "nbformat_minor": 0,
  "metadata": {
    "colab": {
      "provenance": [],
      "authorship_tag": "ABX9TyOxaQeB+USz+k4PUklz67aB",
      "include_colab_link": true
    },
    "kernelspec": {
      "name": "python3",
      "display_name": "Python 3"
    },
    "language_info": {
      "name": "python"
    }
  },
  "cells": [
    {
      "cell_type": "markdown",
      "metadata": {
        "id": "view-in-github",
        "colab_type": "text"
      },
      "source": [
        "<a href=\"https://colab.research.google.com/github/sohil344/ANN/blob/main/Customer_Churn_Prediction_using_ANN_%7C_Keras_and_Tensorflow_%7C_Deep_Learning_Classification.ipynb\" target=\"_parent\"><img src=\"https://colab.research.google.com/assets/colab-badge.svg\" alt=\"Open In Colab\"/></a>"
      ]
    },
    {
      "cell_type": "code",
      "execution_count": 1,
      "metadata": {
        "id": "NwggJ_av912c"
      },
      "outputs": [],
      "source": [
        "import tensorflow\n",
        "from tensorflow import keras\n",
        "from tensorflow.keras import Sequential\n",
        "from tensorflow.keras.layers import Dense"
      ]
    },
    {
      "cell_type": "code",
      "source": [
        "import pandas as pd\n",
        "import numpy as np\n",
        "import matplotlib.pyplot as plt\n"
      ],
      "metadata": {
        "id": "b1KT3FoR-iNe"
      },
      "execution_count": 2,
      "outputs": []
    },
    {
      "cell_type": "code",
      "source": [
        "df=pd.read_csv('/content/Churn_Modelling.csv')"
      ],
      "metadata": {
        "id": "kivNKKSk-32q"
      },
      "execution_count": 3,
      "outputs": []
    },
    {
      "cell_type": "code",
      "source": [
        "df.head()"
      ],
      "metadata": {
        "colab": {
          "base_uri": "https://localhost:8080/",
          "height": 270
        },
        "id": "p0cpgmfV-8pd",
        "outputId": "f6cee266-7f20-480e-be19-30785af1ecbd"
      },
      "execution_count": 4,
      "outputs": [
        {
          "output_type": "execute_result",
          "data": {
            "text/plain": [
              "   RowNumber  CustomerId   Surname  CreditScore Geography  Gender  Age  \\\n",
              "0          1    15634602  Hargrave          619    France  Female   42   \n",
              "1          2    15647311      Hill          608     Spain  Female   41   \n",
              "2          3    15619304      Onio          502    France  Female   42   \n",
              "3          4    15701354      Boni          699    France  Female   39   \n",
              "4          5    15737888  Mitchell          850     Spain  Female   43   \n",
              "\n",
              "   Tenure    Balance  NumOfProducts  HasCrCard  IsActiveMember  \\\n",
              "0       2       0.00              1          1               1   \n",
              "1       1   83807.86              1          0               1   \n",
              "2       8  159660.80              3          1               0   \n",
              "3       1       0.00              2          0               0   \n",
              "4       2  125510.82              1          1               1   \n",
              "\n",
              "   EstimatedSalary  Exited  \n",
              "0        101348.88       1  \n",
              "1        112542.58       0  \n",
              "2        113931.57       1  \n",
              "3         93826.63       0  \n",
              "4         79084.10       0  "
            ],
            "text/html": [
              "\n",
              "  <div id=\"df-742ca97d-2264-4b8b-bd6d-19f413f91750\">\n",
              "    <div class=\"colab-df-container\">\n",
              "      <div>\n",
              "<style scoped>\n",
              "    .dataframe tbody tr th:only-of-type {\n",
              "        vertical-align: middle;\n",
              "    }\n",
              "\n",
              "    .dataframe tbody tr th {\n",
              "        vertical-align: top;\n",
              "    }\n",
              "\n",
              "    .dataframe thead th {\n",
              "        text-align: right;\n",
              "    }\n",
              "</style>\n",
              "<table border=\"1\" class=\"dataframe\">\n",
              "  <thead>\n",
              "    <tr style=\"text-align: right;\">\n",
              "      <th></th>\n",
              "      <th>RowNumber</th>\n",
              "      <th>CustomerId</th>\n",
              "      <th>Surname</th>\n",
              "      <th>CreditScore</th>\n",
              "      <th>Geography</th>\n",
              "      <th>Gender</th>\n",
              "      <th>Age</th>\n",
              "      <th>Tenure</th>\n",
              "      <th>Balance</th>\n",
              "      <th>NumOfProducts</th>\n",
              "      <th>HasCrCard</th>\n",
              "      <th>IsActiveMember</th>\n",
              "      <th>EstimatedSalary</th>\n",
              "      <th>Exited</th>\n",
              "    </tr>\n",
              "  </thead>\n",
              "  <tbody>\n",
              "    <tr>\n",
              "      <th>0</th>\n",
              "      <td>1</td>\n",
              "      <td>15634602</td>\n",
              "      <td>Hargrave</td>\n",
              "      <td>619</td>\n",
              "      <td>France</td>\n",
              "      <td>Female</td>\n",
              "      <td>42</td>\n",
              "      <td>2</td>\n",
              "      <td>0.00</td>\n",
              "      <td>1</td>\n",
              "      <td>1</td>\n",
              "      <td>1</td>\n",
              "      <td>101348.88</td>\n",
              "      <td>1</td>\n",
              "    </tr>\n",
              "    <tr>\n",
              "      <th>1</th>\n",
              "      <td>2</td>\n",
              "      <td>15647311</td>\n",
              "      <td>Hill</td>\n",
              "      <td>608</td>\n",
              "      <td>Spain</td>\n",
              "      <td>Female</td>\n",
              "      <td>41</td>\n",
              "      <td>1</td>\n",
              "      <td>83807.86</td>\n",
              "      <td>1</td>\n",
              "      <td>0</td>\n",
              "      <td>1</td>\n",
              "      <td>112542.58</td>\n",
              "      <td>0</td>\n",
              "    </tr>\n",
              "    <tr>\n",
              "      <th>2</th>\n",
              "      <td>3</td>\n",
              "      <td>15619304</td>\n",
              "      <td>Onio</td>\n",
              "      <td>502</td>\n",
              "      <td>France</td>\n",
              "      <td>Female</td>\n",
              "      <td>42</td>\n",
              "      <td>8</td>\n",
              "      <td>159660.80</td>\n",
              "      <td>3</td>\n",
              "      <td>1</td>\n",
              "      <td>0</td>\n",
              "      <td>113931.57</td>\n",
              "      <td>1</td>\n",
              "    </tr>\n",
              "    <tr>\n",
              "      <th>3</th>\n",
              "      <td>4</td>\n",
              "      <td>15701354</td>\n",
              "      <td>Boni</td>\n",
              "      <td>699</td>\n",
              "      <td>France</td>\n",
              "      <td>Female</td>\n",
              "      <td>39</td>\n",
              "      <td>1</td>\n",
              "      <td>0.00</td>\n",
              "      <td>2</td>\n",
              "      <td>0</td>\n",
              "      <td>0</td>\n",
              "      <td>93826.63</td>\n",
              "      <td>0</td>\n",
              "    </tr>\n",
              "    <tr>\n",
              "      <th>4</th>\n",
              "      <td>5</td>\n",
              "      <td>15737888</td>\n",
              "      <td>Mitchell</td>\n",
              "      <td>850</td>\n",
              "      <td>Spain</td>\n",
              "      <td>Female</td>\n",
              "      <td>43</td>\n",
              "      <td>2</td>\n",
              "      <td>125510.82</td>\n",
              "      <td>1</td>\n",
              "      <td>1</td>\n",
              "      <td>1</td>\n",
              "      <td>79084.10</td>\n",
              "      <td>0</td>\n",
              "    </tr>\n",
              "  </tbody>\n",
              "</table>\n",
              "</div>\n",
              "      <button class=\"colab-df-convert\" onclick=\"convertToInteractive('df-742ca97d-2264-4b8b-bd6d-19f413f91750')\"\n",
              "              title=\"Convert this dataframe to an interactive table.\"\n",
              "              style=\"display:none;\">\n",
              "        \n",
              "  <svg xmlns=\"http://www.w3.org/2000/svg\" height=\"24px\"viewBox=\"0 0 24 24\"\n",
              "       width=\"24px\">\n",
              "    <path d=\"M0 0h24v24H0V0z\" fill=\"none\"/>\n",
              "    <path d=\"M18.56 5.44l.94 2.06.94-2.06 2.06-.94-2.06-.94-.94-2.06-.94 2.06-2.06.94zm-11 1L8.5 8.5l.94-2.06 2.06-.94-2.06-.94L8.5 2.5l-.94 2.06-2.06.94zm10 10l.94 2.06.94-2.06 2.06-.94-2.06-.94-.94-2.06-.94 2.06-2.06.94z\"/><path d=\"M17.41 7.96l-1.37-1.37c-.4-.4-.92-.59-1.43-.59-.52 0-1.04.2-1.43.59L10.3 9.45l-7.72 7.72c-.78.78-.78 2.05 0 2.83L4 21.41c.39.39.9.59 1.41.59.51 0 1.02-.2 1.41-.59l7.78-7.78 2.81-2.81c.8-.78.8-2.07 0-2.86zM5.41 20L4 18.59l7.72-7.72 1.47 1.35L5.41 20z\"/>\n",
              "  </svg>\n",
              "      </button>\n",
              "      \n",
              "  <style>\n",
              "    .colab-df-container {\n",
              "      display:flex;\n",
              "      flex-wrap:wrap;\n",
              "      gap: 12px;\n",
              "    }\n",
              "\n",
              "    .colab-df-convert {\n",
              "      background-color: #E8F0FE;\n",
              "      border: none;\n",
              "      border-radius: 50%;\n",
              "      cursor: pointer;\n",
              "      display: none;\n",
              "      fill: #1967D2;\n",
              "      height: 32px;\n",
              "      padding: 0 0 0 0;\n",
              "      width: 32px;\n",
              "    }\n",
              "\n",
              "    .colab-df-convert:hover {\n",
              "      background-color: #E2EBFA;\n",
              "      box-shadow: 0px 1px 2px rgba(60, 64, 67, 0.3), 0px 1px 3px 1px rgba(60, 64, 67, 0.15);\n",
              "      fill: #174EA6;\n",
              "    }\n",
              "\n",
              "    [theme=dark] .colab-df-convert {\n",
              "      background-color: #3B4455;\n",
              "      fill: #D2E3FC;\n",
              "    }\n",
              "\n",
              "    [theme=dark] .colab-df-convert:hover {\n",
              "      background-color: #434B5C;\n",
              "      box-shadow: 0px 1px 3px 1px rgba(0, 0, 0, 0.15);\n",
              "      filter: drop-shadow(0px 1px 2px rgba(0, 0, 0, 0.3));\n",
              "      fill: #FFFFFF;\n",
              "    }\n",
              "  </style>\n",
              "\n",
              "      <script>\n",
              "        const buttonEl =\n",
              "          document.querySelector('#df-742ca97d-2264-4b8b-bd6d-19f413f91750 button.colab-df-convert');\n",
              "        buttonEl.style.display =\n",
              "          google.colab.kernel.accessAllowed ? 'block' : 'none';\n",
              "\n",
              "        async function convertToInteractive(key) {\n",
              "          const element = document.querySelector('#df-742ca97d-2264-4b8b-bd6d-19f413f91750');\n",
              "          const dataTable =\n",
              "            await google.colab.kernel.invokeFunction('convertToInteractive',\n",
              "                                                     [key], {});\n",
              "          if (!dataTable) return;\n",
              "\n",
              "          const docLinkHtml = 'Like what you see? Visit the ' +\n",
              "            '<a target=\"_blank\" href=https://colab.research.google.com/notebooks/data_table.ipynb>data table notebook</a>'\n",
              "            + ' to learn more about interactive tables.';\n",
              "          element.innerHTML = '';\n",
              "          dataTable['output_type'] = 'display_data';\n",
              "          await google.colab.output.renderOutput(dataTable, element);\n",
              "          const docLink = document.createElement('div');\n",
              "          docLink.innerHTML = docLinkHtml;\n",
              "          element.appendChild(docLink);\n",
              "        }\n",
              "      </script>\n",
              "    </div>\n",
              "  </div>\n",
              "  "
            ]
          },
          "metadata": {},
          "execution_count": 4
        }
      ]
    },
    {
      "cell_type": "code",
      "source": [
        "df.shape"
      ],
      "metadata": {
        "colab": {
          "base_uri": "https://localhost:8080/"
        },
        "id": "JhWYFsSX-99L",
        "outputId": "04b234da-ff17-40a6-fd9f-22a6c21a971e"
      },
      "execution_count": 6,
      "outputs": [
        {
          "output_type": "execute_result",
          "data": {
            "text/plain": [
              "(10000, 14)"
            ]
          },
          "metadata": {},
          "execution_count": 6
        }
      ]
    },
    {
      "cell_type": "code",
      "source": [
        "df.info()"
      ],
      "metadata": {
        "colab": {
          "base_uri": "https://localhost:8080/"
        },
        "id": "2OdZrJkQ_EoY",
        "outputId": "8894f7c7-6945-4710-8030-672709e96048"
      },
      "execution_count": 7,
      "outputs": [
        {
          "output_type": "stream",
          "name": "stdout",
          "text": [
            "<class 'pandas.core.frame.DataFrame'>\n",
            "RangeIndex: 10000 entries, 0 to 9999\n",
            "Data columns (total 14 columns):\n",
            " #   Column           Non-Null Count  Dtype  \n",
            "---  ------           --------------  -----  \n",
            " 0   RowNumber        10000 non-null  int64  \n",
            " 1   CustomerId       10000 non-null  int64  \n",
            " 2   Surname          10000 non-null  object \n",
            " 3   CreditScore      10000 non-null  int64  \n",
            " 4   Geography        10000 non-null  object \n",
            " 5   Gender           10000 non-null  object \n",
            " 6   Age              10000 non-null  int64  \n",
            " 7   Tenure           10000 non-null  int64  \n",
            " 8   Balance          10000 non-null  float64\n",
            " 9   NumOfProducts    10000 non-null  int64  \n",
            " 10  HasCrCard        10000 non-null  int64  \n",
            " 11  IsActiveMember   10000 non-null  int64  \n",
            " 12  EstimatedSalary  10000 non-null  float64\n",
            " 13  Exited           10000 non-null  int64  \n",
            "dtypes: float64(2), int64(9), object(3)\n",
            "memory usage: 1.1+ MB\n"
          ]
        }
      ]
    },
    {
      "cell_type": "code",
      "source": [
        "df.duplicated().sum()"
      ],
      "metadata": {
        "colab": {
          "base_uri": "https://localhost:8080/"
        },
        "id": "e8p3wVjb_c97",
        "outputId": "34b004e5-3c4f-4977-9703-37dcaf5b8ee8"
      },
      "execution_count": 8,
      "outputs": [
        {
          "output_type": "execute_result",
          "data": {
            "text/plain": [
              "0"
            ]
          },
          "metadata": {},
          "execution_count": 8
        }
      ]
    },
    {
      "cell_type": "code",
      "source": [
        "df['Exited'].value_counts()"
      ],
      "metadata": {
        "colab": {
          "base_uri": "https://localhost:8080/"
        },
        "id": "HgAauIQyAn1R",
        "outputId": "126aa72b-8549-4b37-e33c-35317368546c"
      },
      "execution_count": 9,
      "outputs": [
        {
          "output_type": "execute_result",
          "data": {
            "text/plain": [
              "0    7963\n",
              "1    2037\n",
              "Name: Exited, dtype: int64"
            ]
          },
          "metadata": {},
          "execution_count": 9
        }
      ]
    },
    {
      "cell_type": "code",
      "source": [
        "df['Geography'].value_counts()"
      ],
      "metadata": {
        "colab": {
          "base_uri": "https://localhost:8080/"
        },
        "id": "Gni-8erYAqlE",
        "outputId": "61f17fb6-440a-47c3-8c25-649e4e080e3e"
      },
      "execution_count": 10,
      "outputs": [
        {
          "output_type": "execute_result",
          "data": {
            "text/plain": [
              "France     5014\n",
              "Germany    2509\n",
              "Spain      2477\n",
              "Name: Geography, dtype: int64"
            ]
          },
          "metadata": {},
          "execution_count": 10
        }
      ]
    },
    {
      "cell_type": "code",
      "source": [
        "df['Gender'].value_counts()"
      ],
      "metadata": {
        "colab": {
          "base_uri": "https://localhost:8080/"
        },
        "id": "gBN-XKXEAxIC",
        "outputId": "df6ac0bf-20dc-43e9-8009-3528c540fcea"
      },
      "execution_count": 11,
      "outputs": [
        {
          "output_type": "execute_result",
          "data": {
            "text/plain": [
              "Male      5457\n",
              "Female    4543\n",
              "Name: Gender, dtype: int64"
            ]
          },
          "metadata": {},
          "execution_count": 11
        }
      ]
    },
    {
      "cell_type": "code",
      "source": [
        "df=df.drop(columns=['RowNumber','CustomerId','Surname'])"
      ],
      "metadata": {
        "id": "GJkFoO9sA0-O"
      },
      "execution_count": 13,
      "outputs": []
    },
    {
      "cell_type": "code",
      "source": [
        "df.head(1)"
      ],
      "metadata": {
        "colab": {
          "base_uri": "https://localhost:8080/",
          "height": 145
        },
        "id": "4_tMznByA-7m",
        "outputId": "64cb7d9e-429d-4039-e8c2-b70c08e74042"
      },
      "execution_count": 15,
      "outputs": [
        {
          "output_type": "execute_result",
          "data": {
            "text/plain": [
              "   CreditScore Geography  Gender  Age  Tenure  Balance  NumOfProducts  \\\n",
              "0          619    France  Female   42       2      0.0              1   \n",
              "\n",
              "   HasCrCard  IsActiveMember  EstimatedSalary  Exited  \n",
              "0          1               1        101348.88       1  "
            ],
            "text/html": [
              "\n",
              "  <div id=\"df-9e850779-651c-4a6f-ad5c-1e9d5232a8a5\">\n",
              "    <div class=\"colab-df-container\">\n",
              "      <div>\n",
              "<style scoped>\n",
              "    .dataframe tbody tr th:only-of-type {\n",
              "        vertical-align: middle;\n",
              "    }\n",
              "\n",
              "    .dataframe tbody tr th {\n",
              "        vertical-align: top;\n",
              "    }\n",
              "\n",
              "    .dataframe thead th {\n",
              "        text-align: right;\n",
              "    }\n",
              "</style>\n",
              "<table border=\"1\" class=\"dataframe\">\n",
              "  <thead>\n",
              "    <tr style=\"text-align: right;\">\n",
              "      <th></th>\n",
              "      <th>CreditScore</th>\n",
              "      <th>Geography</th>\n",
              "      <th>Gender</th>\n",
              "      <th>Age</th>\n",
              "      <th>Tenure</th>\n",
              "      <th>Balance</th>\n",
              "      <th>NumOfProducts</th>\n",
              "      <th>HasCrCard</th>\n",
              "      <th>IsActiveMember</th>\n",
              "      <th>EstimatedSalary</th>\n",
              "      <th>Exited</th>\n",
              "    </tr>\n",
              "  </thead>\n",
              "  <tbody>\n",
              "    <tr>\n",
              "      <th>0</th>\n",
              "      <td>619</td>\n",
              "      <td>France</td>\n",
              "      <td>Female</td>\n",
              "      <td>42</td>\n",
              "      <td>2</td>\n",
              "      <td>0.0</td>\n",
              "      <td>1</td>\n",
              "      <td>1</td>\n",
              "      <td>1</td>\n",
              "      <td>101348.88</td>\n",
              "      <td>1</td>\n",
              "    </tr>\n",
              "  </tbody>\n",
              "</table>\n",
              "</div>\n",
              "      <button class=\"colab-df-convert\" onclick=\"convertToInteractive('df-9e850779-651c-4a6f-ad5c-1e9d5232a8a5')\"\n",
              "              title=\"Convert this dataframe to an interactive table.\"\n",
              "              style=\"display:none;\">\n",
              "        \n",
              "  <svg xmlns=\"http://www.w3.org/2000/svg\" height=\"24px\"viewBox=\"0 0 24 24\"\n",
              "       width=\"24px\">\n",
              "    <path d=\"M0 0h24v24H0V0z\" fill=\"none\"/>\n",
              "    <path d=\"M18.56 5.44l.94 2.06.94-2.06 2.06-.94-2.06-.94-.94-2.06-.94 2.06-2.06.94zm-11 1L8.5 8.5l.94-2.06 2.06-.94-2.06-.94L8.5 2.5l-.94 2.06-2.06.94zm10 10l.94 2.06.94-2.06 2.06-.94-2.06-.94-.94-2.06-.94 2.06-2.06.94z\"/><path d=\"M17.41 7.96l-1.37-1.37c-.4-.4-.92-.59-1.43-.59-.52 0-1.04.2-1.43.59L10.3 9.45l-7.72 7.72c-.78.78-.78 2.05 0 2.83L4 21.41c.39.39.9.59 1.41.59.51 0 1.02-.2 1.41-.59l7.78-7.78 2.81-2.81c.8-.78.8-2.07 0-2.86zM5.41 20L4 18.59l7.72-7.72 1.47 1.35L5.41 20z\"/>\n",
              "  </svg>\n",
              "      </button>\n",
              "      \n",
              "  <style>\n",
              "    .colab-df-container {\n",
              "      display:flex;\n",
              "      flex-wrap:wrap;\n",
              "      gap: 12px;\n",
              "    }\n",
              "\n",
              "    .colab-df-convert {\n",
              "      background-color: #E8F0FE;\n",
              "      border: none;\n",
              "      border-radius: 50%;\n",
              "      cursor: pointer;\n",
              "      display: none;\n",
              "      fill: #1967D2;\n",
              "      height: 32px;\n",
              "      padding: 0 0 0 0;\n",
              "      width: 32px;\n",
              "    }\n",
              "\n",
              "    .colab-df-convert:hover {\n",
              "      background-color: #E2EBFA;\n",
              "      box-shadow: 0px 1px 2px rgba(60, 64, 67, 0.3), 0px 1px 3px 1px rgba(60, 64, 67, 0.15);\n",
              "      fill: #174EA6;\n",
              "    }\n",
              "\n",
              "    [theme=dark] .colab-df-convert {\n",
              "      background-color: #3B4455;\n",
              "      fill: #D2E3FC;\n",
              "    }\n",
              "\n",
              "    [theme=dark] .colab-df-convert:hover {\n",
              "      background-color: #434B5C;\n",
              "      box-shadow: 0px 1px 3px 1px rgba(0, 0, 0, 0.15);\n",
              "      filter: drop-shadow(0px 1px 2px rgba(0, 0, 0, 0.3));\n",
              "      fill: #FFFFFF;\n",
              "    }\n",
              "  </style>\n",
              "\n",
              "      <script>\n",
              "        const buttonEl =\n",
              "          document.querySelector('#df-9e850779-651c-4a6f-ad5c-1e9d5232a8a5 button.colab-df-convert');\n",
              "        buttonEl.style.display =\n",
              "          google.colab.kernel.accessAllowed ? 'block' : 'none';\n",
              "\n",
              "        async function convertToInteractive(key) {\n",
              "          const element = document.querySelector('#df-9e850779-651c-4a6f-ad5c-1e9d5232a8a5');\n",
              "          const dataTable =\n",
              "            await google.colab.kernel.invokeFunction('convertToInteractive',\n",
              "                                                     [key], {});\n",
              "          if (!dataTable) return;\n",
              "\n",
              "          const docLinkHtml = 'Like what you see? Visit the ' +\n",
              "            '<a target=\"_blank\" href=https://colab.research.google.com/notebooks/data_table.ipynb>data table notebook</a>'\n",
              "            + ' to learn more about interactive tables.';\n",
              "          element.innerHTML = '';\n",
              "          dataTable['output_type'] = 'display_data';\n",
              "          await google.colab.output.renderOutput(dataTable, element);\n",
              "          const docLink = document.createElement('div');\n",
              "          docLink.innerHTML = docLinkHtml;\n",
              "          element.appendChild(docLink);\n",
              "        }\n",
              "      </script>\n",
              "    </div>\n",
              "  </div>\n",
              "  "
            ]
          },
          "metadata": {},
          "execution_count": 15
        }
      ]
    },
    {
      "cell_type": "code",
      "source": [
        "#converting categorical column into numerical\n",
        "df=pd.get_dummies(df,columns=['Geography','Gender'],drop_first=True)"
      ],
      "metadata": {
        "id": "-ByivgiuBCUG"
      },
      "execution_count": 18,
      "outputs": []
    },
    {
      "cell_type": "code",
      "source": [
        "df.head(1)"
      ],
      "metadata": {
        "colab": {
          "base_uri": "https://localhost:8080/",
          "height": 145
        },
        "id": "hPT3Tt4XBWNM",
        "outputId": "e874bdae-a06e-45f4-b135-c4e9e6160360"
      },
      "execution_count": 19,
      "outputs": [
        {
          "output_type": "execute_result",
          "data": {
            "text/plain": [
              "   CreditScore  Age  Tenure  Balance  NumOfProducts  HasCrCard  \\\n",
              "0          619   42       2      0.0              1          1   \n",
              "\n",
              "   IsActiveMember  EstimatedSalary  Exited  Geography_Germany  \\\n",
              "0               1        101348.88       1                  0   \n",
              "\n",
              "   Geography_Spain  Gender_Male  \n",
              "0                0            0  "
            ],
            "text/html": [
              "\n",
              "  <div id=\"df-1bc335af-905b-4c83-9b61-dfdcd3a8512d\">\n",
              "    <div class=\"colab-df-container\">\n",
              "      <div>\n",
              "<style scoped>\n",
              "    .dataframe tbody tr th:only-of-type {\n",
              "        vertical-align: middle;\n",
              "    }\n",
              "\n",
              "    .dataframe tbody tr th {\n",
              "        vertical-align: top;\n",
              "    }\n",
              "\n",
              "    .dataframe thead th {\n",
              "        text-align: right;\n",
              "    }\n",
              "</style>\n",
              "<table border=\"1\" class=\"dataframe\">\n",
              "  <thead>\n",
              "    <tr style=\"text-align: right;\">\n",
              "      <th></th>\n",
              "      <th>CreditScore</th>\n",
              "      <th>Age</th>\n",
              "      <th>Tenure</th>\n",
              "      <th>Balance</th>\n",
              "      <th>NumOfProducts</th>\n",
              "      <th>HasCrCard</th>\n",
              "      <th>IsActiveMember</th>\n",
              "      <th>EstimatedSalary</th>\n",
              "      <th>Exited</th>\n",
              "      <th>Geography_Germany</th>\n",
              "      <th>Geography_Spain</th>\n",
              "      <th>Gender_Male</th>\n",
              "    </tr>\n",
              "  </thead>\n",
              "  <tbody>\n",
              "    <tr>\n",
              "      <th>0</th>\n",
              "      <td>619</td>\n",
              "      <td>42</td>\n",
              "      <td>2</td>\n",
              "      <td>0.0</td>\n",
              "      <td>1</td>\n",
              "      <td>1</td>\n",
              "      <td>1</td>\n",
              "      <td>101348.88</td>\n",
              "      <td>1</td>\n",
              "      <td>0</td>\n",
              "      <td>0</td>\n",
              "      <td>0</td>\n",
              "    </tr>\n",
              "  </tbody>\n",
              "</table>\n",
              "</div>\n",
              "      <button class=\"colab-df-convert\" onclick=\"convertToInteractive('df-1bc335af-905b-4c83-9b61-dfdcd3a8512d')\"\n",
              "              title=\"Convert this dataframe to an interactive table.\"\n",
              "              style=\"display:none;\">\n",
              "        \n",
              "  <svg xmlns=\"http://www.w3.org/2000/svg\" height=\"24px\"viewBox=\"0 0 24 24\"\n",
              "       width=\"24px\">\n",
              "    <path d=\"M0 0h24v24H0V0z\" fill=\"none\"/>\n",
              "    <path d=\"M18.56 5.44l.94 2.06.94-2.06 2.06-.94-2.06-.94-.94-2.06-.94 2.06-2.06.94zm-11 1L8.5 8.5l.94-2.06 2.06-.94-2.06-.94L8.5 2.5l-.94 2.06-2.06.94zm10 10l.94 2.06.94-2.06 2.06-.94-2.06-.94-.94-2.06-.94 2.06-2.06.94z\"/><path d=\"M17.41 7.96l-1.37-1.37c-.4-.4-.92-.59-1.43-.59-.52 0-1.04.2-1.43.59L10.3 9.45l-7.72 7.72c-.78.78-.78 2.05 0 2.83L4 21.41c.39.39.9.59 1.41.59.51 0 1.02-.2 1.41-.59l7.78-7.78 2.81-2.81c.8-.78.8-2.07 0-2.86zM5.41 20L4 18.59l7.72-7.72 1.47 1.35L5.41 20z\"/>\n",
              "  </svg>\n",
              "      </button>\n",
              "      \n",
              "  <style>\n",
              "    .colab-df-container {\n",
              "      display:flex;\n",
              "      flex-wrap:wrap;\n",
              "      gap: 12px;\n",
              "    }\n",
              "\n",
              "    .colab-df-convert {\n",
              "      background-color: #E8F0FE;\n",
              "      border: none;\n",
              "      border-radius: 50%;\n",
              "      cursor: pointer;\n",
              "      display: none;\n",
              "      fill: #1967D2;\n",
              "      height: 32px;\n",
              "      padding: 0 0 0 0;\n",
              "      width: 32px;\n",
              "    }\n",
              "\n",
              "    .colab-df-convert:hover {\n",
              "      background-color: #E2EBFA;\n",
              "      box-shadow: 0px 1px 2px rgba(60, 64, 67, 0.3), 0px 1px 3px 1px rgba(60, 64, 67, 0.15);\n",
              "      fill: #174EA6;\n",
              "    }\n",
              "\n",
              "    [theme=dark] .colab-df-convert {\n",
              "      background-color: #3B4455;\n",
              "      fill: #D2E3FC;\n",
              "    }\n",
              "\n",
              "    [theme=dark] .colab-df-convert:hover {\n",
              "      background-color: #434B5C;\n",
              "      box-shadow: 0px 1px 3px 1px rgba(0, 0, 0, 0.15);\n",
              "      filter: drop-shadow(0px 1px 2px rgba(0, 0, 0, 0.3));\n",
              "      fill: #FFFFFF;\n",
              "    }\n",
              "  </style>\n",
              "\n",
              "      <script>\n",
              "        const buttonEl =\n",
              "          document.querySelector('#df-1bc335af-905b-4c83-9b61-dfdcd3a8512d button.colab-df-convert');\n",
              "        buttonEl.style.display =\n",
              "          google.colab.kernel.accessAllowed ? 'block' : 'none';\n",
              "\n",
              "        async function convertToInteractive(key) {\n",
              "          const element = document.querySelector('#df-1bc335af-905b-4c83-9b61-dfdcd3a8512d');\n",
              "          const dataTable =\n",
              "            await google.colab.kernel.invokeFunction('convertToInteractive',\n",
              "                                                     [key], {});\n",
              "          if (!dataTable) return;\n",
              "\n",
              "          const docLinkHtml = 'Like what you see? Visit the ' +\n",
              "            '<a target=\"_blank\" href=https://colab.research.google.com/notebooks/data_table.ipynb>data table notebook</a>'\n",
              "            + ' to learn more about interactive tables.';\n",
              "          element.innerHTML = '';\n",
              "          dataTable['output_type'] = 'display_data';\n",
              "          await google.colab.output.renderOutput(dataTable, element);\n",
              "          const docLink = document.createElement('div');\n",
              "          docLink.innerHTML = docLinkHtml;\n",
              "          element.appendChild(docLink);\n",
              "        }\n",
              "      </script>\n",
              "    </div>\n",
              "  </div>\n",
              "  "
            ]
          },
          "metadata": {},
          "execution_count": 19
        }
      ]
    },
    {
      "cell_type": "code",
      "source": [
        "X=df.drop(columns=['Exited'])\n",
        "y=df['Exited']\n",
        "\n",
        "from sklearn.model_selection import train_test_split\n",
        "X_train,X_test,y_train,y_test=train_test_split(X,y,test_size=0.2,random_state=1)"
      ],
      "metadata": {
        "id": "ex1wPJ2tBf52"
      },
      "execution_count": 20,
      "outputs": []
    },
    {
      "cell_type": "code",
      "source": [
        "X_train.shape"
      ],
      "metadata": {
        "colab": {
          "base_uri": "https://localhost:8080/"
        },
        "id": "OI5IklEXCLbk",
        "outputId": "ecf47ace-c55c-4938-a8a9-eb2c5495583f"
      },
      "execution_count": 21,
      "outputs": [
        {
          "output_type": "execute_result",
          "data": {
            "text/plain": [
              "(8000, 11)"
            ]
          },
          "metadata": {},
          "execution_count": 21
        }
      ]
    },
    {
      "cell_type": "code",
      "source": [
        "from sklearn.preprocessing import StandardScaler\n",
        "scaler=StandardScaler()\n",
        "\n",
        "X_train_scaled=scaler.fit_transform(X_train)\n",
        "X_test_scaled=scaler.transform(X_test)"
      ],
      "metadata": {
        "id": "amTJgG-DCOEw"
      },
      "execution_count": 22,
      "outputs": []
    },
    {
      "cell_type": "code",
      "source": [
        "X_train_scaled"
      ],
      "metadata": {
        "colab": {
          "base_uri": "https://localhost:8080/"
        },
        "id": "4TzLkr9BDEWH",
        "outputId": "c906738c-72ca-44f5-e9e3-c17c5e14fbf9"
      },
      "execution_count": 23,
      "outputs": [
        {
          "output_type": "execute_result",
          "data": {
            "text/plain": [
              "array([[-0.23082038, -0.94449979, -0.70174202, ...,  1.71490137,\n",
              "        -0.57273139,  0.91509065],\n",
              "       [-0.25150912, -0.94449979, -0.35520275, ..., -0.58312392,\n",
              "        -0.57273139, -1.09278791],\n",
              "       [-0.3963303 ,  0.77498705,  0.33787579, ...,  1.71490137,\n",
              "        -0.57273139, -1.09278791],\n",
              "       ...,\n",
              "       [ 0.22433188,  0.58393295,  1.3774936 , ..., -0.58312392,\n",
              "        -0.57273139, -1.09278791],\n",
              "       [ 0.13123255,  0.01077067,  1.03095433, ..., -0.58312392,\n",
              "        -0.57273139, -1.09278791],\n",
              "       [ 1.1656695 ,  0.29735181,  0.33787579, ...,  1.71490137,\n",
              "        -0.57273139,  0.91509065]])"
            ]
          },
          "metadata": {},
          "execution_count": 23
        }
      ]
    },
    {
      "cell_type": "code",
      "source": [
        "model=Sequential()\n",
        "\n",
        "model.add(Dense(11,activation='sigmoid',input_dim=11))\n",
        "model.add(Dense(11,activation='sigmoid'))\n",
        "model.add(Dense(1,activation='sigmoid'))\n"
      ],
      "metadata": {
        "id": "I_VR0zHkDGrp"
      },
      "execution_count": 25,
      "outputs": []
    },
    {
      "cell_type": "code",
      "source": [
        "model.summary()"
      ],
      "metadata": {
        "colab": {
          "base_uri": "https://localhost:8080/"
        },
        "id": "t2crY3EoHO3A",
        "outputId": "199fe39e-5ca7-4975-c1ab-5ef4a954530d"
      },
      "execution_count": 26,
      "outputs": [
        {
          "output_type": "stream",
          "name": "stdout",
          "text": [
            "Model: \"sequential_1\"\n",
            "_________________________________________________________________\n",
            " Layer (type)                Output Shape              Param #   \n",
            "=================================================================\n",
            " dense_1 (Dense)             (None, 11)                132       \n",
            "                                                                 \n",
            " dense_2 (Dense)             (None, 11)                132       \n",
            "                                                                 \n",
            " dense_3 (Dense)             (None, 1)                 12        \n",
            "                                                                 \n",
            "=================================================================\n",
            "Total params: 276\n",
            "Trainable params: 276\n",
            "Non-trainable params: 0\n",
            "_________________________________________________________________\n"
          ]
        }
      ]
    },
    {
      "cell_type": "code",
      "source": [
        "model.compile(optimizer='Adam',loss='binary_crossentropy',metrics=['accuracy'])\n"
      ],
      "metadata": {
        "id": "sOfzfzYXHcKy"
      },
      "execution_count": 27,
      "outputs": []
    },
    {
      "cell_type": "code",
      "source": [
        "history=model.fit(X_train,y_train,batch_size=50,epochs=100,verbose=1,validation_split=0.2)\n"
      ],
      "metadata": {
        "colab": {
          "base_uri": "https://localhost:8080/"
        },
        "id": "GK-ILcrlHopG",
        "outputId": "6730d546-948f-46bb-c6aa-9e11bb300066"
      },
      "execution_count": 28,
      "outputs": [
        {
          "output_type": "stream",
          "name": "stdout",
          "text": [
            "Epoch 1/100\n",
            "128/128 [==============================] - 1s 4ms/step - loss: 0.7772 - accuracy: 0.4244 - val_loss: 0.5924 - val_accuracy: 0.7975\n",
            "Epoch 2/100\n",
            "128/128 [==============================] - 0s 2ms/step - loss: 0.5445 - accuracy: 0.7972 - val_loss: 0.5206 - val_accuracy: 0.7975\n",
            "Epoch 3/100\n",
            "128/128 [==============================] - 0s 2ms/step - loss: 0.5141 - accuracy: 0.7972 - val_loss: 0.5100 - val_accuracy: 0.7975\n",
            "Epoch 4/100\n",
            "128/128 [==============================] - 0s 2ms/step - loss: 0.5083 - accuracy: 0.7972 - val_loss: 0.5061 - val_accuracy: 0.7975\n",
            "Epoch 5/100\n",
            "128/128 [==============================] - 0s 2ms/step - loss: 0.5058 - accuracy: 0.7972 - val_loss: 0.5036 - val_accuracy: 0.7975\n",
            "Epoch 6/100\n",
            "128/128 [==============================] - 0s 2ms/step - loss: 0.5042 - accuracy: 0.7972 - val_loss: 0.5019 - val_accuracy: 0.7975\n",
            "Epoch 7/100\n",
            "128/128 [==============================] - 0s 2ms/step - loss: 0.5032 - accuracy: 0.7972 - val_loss: 0.5009 - val_accuracy: 0.7975\n",
            "Epoch 8/100\n",
            "128/128 [==============================] - 0s 2ms/step - loss: 0.5025 - accuracy: 0.7972 - val_loss: 0.5001 - val_accuracy: 0.7975\n",
            "Epoch 9/100\n",
            "128/128 [==============================] - 0s 2ms/step - loss: 0.5018 - accuracy: 0.7972 - val_loss: 0.4996 - val_accuracy: 0.7975\n",
            "Epoch 10/100\n",
            "128/128 [==============================] - 0s 2ms/step - loss: 0.5015 - accuracy: 0.7972 - val_loss: 0.4991 - val_accuracy: 0.7975\n",
            "Epoch 11/100\n",
            "128/128 [==============================] - 0s 2ms/step - loss: 0.5011 - accuracy: 0.7972 - val_loss: 0.4987 - val_accuracy: 0.7975\n",
            "Epoch 12/100\n",
            "128/128 [==============================] - 0s 2ms/step - loss: 0.5007 - accuracy: 0.7972 - val_loss: 0.4983 - val_accuracy: 0.7975\n",
            "Epoch 13/100\n",
            "128/128 [==============================] - 0s 3ms/step - loss: 0.5004 - accuracy: 0.7972 - val_loss: 0.4981 - val_accuracy: 0.7975\n",
            "Epoch 14/100\n",
            "128/128 [==============================] - 0s 4ms/step - loss: 0.5002 - accuracy: 0.7972 - val_loss: 0.4977 - val_accuracy: 0.7975\n",
            "Epoch 15/100\n",
            "128/128 [==============================] - 0s 3ms/step - loss: 0.4999 - accuracy: 0.7972 - val_loss: 0.4976 - val_accuracy: 0.7975\n",
            "Epoch 16/100\n",
            "128/128 [==============================] - 0s 3ms/step - loss: 0.4995 - accuracy: 0.7972 - val_loss: 0.4977 - val_accuracy: 0.7975\n",
            "Epoch 17/100\n",
            "128/128 [==============================] - 0s 3ms/step - loss: 0.4994 - accuracy: 0.7972 - val_loss: 0.4972 - val_accuracy: 0.7975\n",
            "Epoch 18/100\n",
            "128/128 [==============================] - 0s 3ms/step - loss: 0.4992 - accuracy: 0.7972 - val_loss: 0.4970 - val_accuracy: 0.7975\n",
            "Epoch 19/100\n",
            "128/128 [==============================] - 0s 3ms/step - loss: 0.4990 - accuracy: 0.7972 - val_loss: 0.4970 - val_accuracy: 0.7975\n",
            "Epoch 20/100\n",
            "128/128 [==============================] - 0s 2ms/step - loss: 0.4989 - accuracy: 0.7972 - val_loss: 0.4968 - val_accuracy: 0.7975\n",
            "Epoch 21/100\n",
            "128/128 [==============================] - 0s 2ms/step - loss: 0.4988 - accuracy: 0.7972 - val_loss: 0.4969 - val_accuracy: 0.7975\n",
            "Epoch 22/100\n",
            "128/128 [==============================] - 0s 2ms/step - loss: 0.4982 - accuracy: 0.7972 - val_loss: 0.4970 - val_accuracy: 0.7975\n",
            "Epoch 23/100\n",
            "128/128 [==============================] - 0s 2ms/step - loss: 0.4987 - accuracy: 0.7972 - val_loss: 0.4965 - val_accuracy: 0.7975\n",
            "Epoch 24/100\n",
            "128/128 [==============================] - 0s 2ms/step - loss: 0.4984 - accuracy: 0.7972 - val_loss: 0.4964 - val_accuracy: 0.7975\n",
            "Epoch 25/100\n",
            "128/128 [==============================] - 0s 2ms/step - loss: 0.4983 - accuracy: 0.7972 - val_loss: 0.4965 - val_accuracy: 0.7975\n",
            "Epoch 26/100\n",
            "128/128 [==============================] - 0s 2ms/step - loss: 0.4982 - accuracy: 0.7972 - val_loss: 0.4964 - val_accuracy: 0.7975\n",
            "Epoch 27/100\n",
            "128/128 [==============================] - 0s 2ms/step - loss: 0.4982 - accuracy: 0.7972 - val_loss: 0.4965 - val_accuracy: 0.7975\n",
            "Epoch 28/100\n",
            "128/128 [==============================] - 0s 2ms/step - loss: 0.4981 - accuracy: 0.7972 - val_loss: 0.4965 - val_accuracy: 0.7975\n",
            "Epoch 29/100\n",
            "128/128 [==============================] - 0s 2ms/step - loss: 0.4981 - accuracy: 0.7972 - val_loss: 0.4963 - val_accuracy: 0.7975\n",
            "Epoch 30/100\n",
            "128/128 [==============================] - 0s 2ms/step - loss: 0.4980 - accuracy: 0.7972 - val_loss: 0.4964 - val_accuracy: 0.7975\n",
            "Epoch 31/100\n",
            "128/128 [==============================] - 0s 2ms/step - loss: 0.4980 - accuracy: 0.7972 - val_loss: 0.4963 - val_accuracy: 0.7975\n",
            "Epoch 32/100\n",
            "128/128 [==============================] - 0s 2ms/step - loss: 0.4979 - accuracy: 0.7972 - val_loss: 0.4962 - val_accuracy: 0.7975\n",
            "Epoch 33/100\n",
            "128/128 [==============================] - 0s 2ms/step - loss: 0.4979 - accuracy: 0.7972 - val_loss: 0.4965 - val_accuracy: 0.7975\n",
            "Epoch 34/100\n",
            "128/128 [==============================] - 0s 2ms/step - loss: 0.4978 - accuracy: 0.7972 - val_loss: 0.4970 - val_accuracy: 0.7975\n",
            "Epoch 35/100\n",
            "128/128 [==============================] - 0s 2ms/step - loss: 0.4981 - accuracy: 0.7972 - val_loss: 0.4961 - val_accuracy: 0.7975\n",
            "Epoch 36/100\n",
            "128/128 [==============================] - 0s 2ms/step - loss: 0.4979 - accuracy: 0.7972 - val_loss: 0.4962 - val_accuracy: 0.7975\n",
            "Epoch 37/100\n",
            "128/128 [==============================] - 0s 2ms/step - loss: 0.4977 - accuracy: 0.7972 - val_loss: 0.4962 - val_accuracy: 0.7975\n",
            "Epoch 38/100\n",
            "128/128 [==============================] - 0s 2ms/step - loss: 0.4979 - accuracy: 0.7972 - val_loss: 0.4962 - val_accuracy: 0.7975\n",
            "Epoch 39/100\n",
            "128/128 [==============================] - 0s 2ms/step - loss: 0.4978 - accuracy: 0.7972 - val_loss: 0.4962 - val_accuracy: 0.7975\n",
            "Epoch 40/100\n",
            "128/128 [==============================] - 0s 2ms/step - loss: 0.4980 - accuracy: 0.7972 - val_loss: 0.4962 - val_accuracy: 0.7975\n",
            "Epoch 41/100\n",
            "128/128 [==============================] - 0s 2ms/step - loss: 0.4977 - accuracy: 0.7972 - val_loss: 0.4963 - val_accuracy: 0.7975\n",
            "Epoch 42/100\n",
            "128/128 [==============================] - 0s 2ms/step - loss: 0.4979 - accuracy: 0.7972 - val_loss: 0.4962 - val_accuracy: 0.7975\n",
            "Epoch 43/100\n",
            "128/128 [==============================] - 0s 2ms/step - loss: 0.4978 - accuracy: 0.7972 - val_loss: 0.4961 - val_accuracy: 0.7975\n",
            "Epoch 44/100\n",
            "128/128 [==============================] - 0s 2ms/step - loss: 0.4978 - accuracy: 0.7972 - val_loss: 0.4961 - val_accuracy: 0.7975\n",
            "Epoch 45/100\n",
            "128/128 [==============================] - 0s 2ms/step - loss: 0.4977 - accuracy: 0.7972 - val_loss: 0.4961 - val_accuracy: 0.7975\n",
            "Epoch 46/100\n",
            "128/128 [==============================] - 0s 2ms/step - loss: 0.4977 - accuracy: 0.7972 - val_loss: 0.4960 - val_accuracy: 0.7975\n",
            "Epoch 47/100\n",
            "128/128 [==============================] - 0s 2ms/step - loss: 0.4976 - accuracy: 0.7972 - val_loss: 0.4960 - val_accuracy: 0.7975\n",
            "Epoch 48/100\n",
            "128/128 [==============================] - 0s 2ms/step - loss: 0.4977 - accuracy: 0.7972 - val_loss: 0.4961 - val_accuracy: 0.7975\n",
            "Epoch 49/100\n",
            "128/128 [==============================] - 0s 2ms/step - loss: 0.4978 - accuracy: 0.7972 - val_loss: 0.4961 - val_accuracy: 0.7975\n",
            "Epoch 50/100\n",
            "128/128 [==============================] - 0s 2ms/step - loss: 0.4978 - accuracy: 0.7972 - val_loss: 0.4964 - val_accuracy: 0.7975\n",
            "Epoch 51/100\n",
            "128/128 [==============================] - 0s 2ms/step - loss: 0.4978 - accuracy: 0.7972 - val_loss: 0.4962 - val_accuracy: 0.7975\n",
            "Epoch 52/100\n",
            "128/128 [==============================] - 0s 2ms/step - loss: 0.4977 - accuracy: 0.7972 - val_loss: 0.4965 - val_accuracy: 0.7975\n",
            "Epoch 53/100\n",
            "128/128 [==============================] - 0s 2ms/step - loss: 0.4975 - accuracy: 0.7972 - val_loss: 0.4962 - val_accuracy: 0.7975\n",
            "Epoch 54/100\n",
            "128/128 [==============================] - 0s 3ms/step - loss: 0.4977 - accuracy: 0.7972 - val_loss: 0.4961 - val_accuracy: 0.7975\n",
            "Epoch 55/100\n",
            "128/128 [==============================] - 0s 3ms/step - loss: 0.4976 - accuracy: 0.7972 - val_loss: 0.4962 - val_accuracy: 0.7975\n",
            "Epoch 56/100\n",
            "128/128 [==============================] - 0s 3ms/step - loss: 0.4977 - accuracy: 0.7972 - val_loss: 0.4961 - val_accuracy: 0.7975\n",
            "Epoch 57/100\n",
            "128/128 [==============================] - 0s 3ms/step - loss: 0.4978 - accuracy: 0.7972 - val_loss: 0.4962 - val_accuracy: 0.7975\n",
            "Epoch 58/100\n",
            "128/128 [==============================] - 0s 3ms/step - loss: 0.4976 - accuracy: 0.7972 - val_loss: 0.4961 - val_accuracy: 0.7975\n",
            "Epoch 59/100\n",
            "128/128 [==============================] - 0s 3ms/step - loss: 0.4980 - accuracy: 0.7972 - val_loss: 0.4962 - val_accuracy: 0.7975\n",
            "Epoch 60/100\n",
            "128/128 [==============================] - 0s 3ms/step - loss: 0.4979 - accuracy: 0.7972 - val_loss: 0.4961 - val_accuracy: 0.7975\n",
            "Epoch 61/100\n",
            "128/128 [==============================] - 0s 2ms/step - loss: 0.4975 - accuracy: 0.7972 - val_loss: 0.4962 - val_accuracy: 0.7975\n",
            "Epoch 62/100\n",
            "128/128 [==============================] - 0s 2ms/step - loss: 0.4977 - accuracy: 0.7972 - val_loss: 0.4961 - val_accuracy: 0.7975\n",
            "Epoch 63/100\n",
            "128/128 [==============================] - 0s 2ms/step - loss: 0.4976 - accuracy: 0.7972 - val_loss: 0.4961 - val_accuracy: 0.7975\n",
            "Epoch 64/100\n",
            "128/128 [==============================] - 0s 2ms/step - loss: 0.4976 - accuracy: 0.7972 - val_loss: 0.4961 - val_accuracy: 0.7975\n",
            "Epoch 65/100\n",
            "128/128 [==============================] - 0s 4ms/step - loss: 0.4979 - accuracy: 0.7972 - val_loss: 0.4962 - val_accuracy: 0.7975\n",
            "Epoch 66/100\n",
            "128/128 [==============================] - 0s 3ms/step - loss: 0.4978 - accuracy: 0.7972 - val_loss: 0.4961 - val_accuracy: 0.7975\n",
            "Epoch 67/100\n",
            "128/128 [==============================] - 0s 3ms/step - loss: 0.4974 - accuracy: 0.7972 - val_loss: 0.4970 - val_accuracy: 0.7975\n",
            "Epoch 68/100\n",
            "128/128 [==============================] - 0s 3ms/step - loss: 0.4974 - accuracy: 0.7972 - val_loss: 0.4963 - val_accuracy: 0.7975\n",
            "Epoch 69/100\n",
            "128/128 [==============================] - 1s 4ms/step - loss: 0.4977 - accuracy: 0.7972 - val_loss: 0.4961 - val_accuracy: 0.7975\n",
            "Epoch 70/100\n",
            "128/128 [==============================] - 0s 3ms/step - loss: 0.4977 - accuracy: 0.7972 - val_loss: 0.4967 - val_accuracy: 0.7975\n",
            "Epoch 71/100\n",
            "128/128 [==============================] - 1s 5ms/step - loss: 0.4978 - accuracy: 0.7972 - val_loss: 0.4964 - val_accuracy: 0.7975\n",
            "Epoch 72/100\n",
            "128/128 [==============================] - 0s 3ms/step - loss: 0.4976 - accuracy: 0.7972 - val_loss: 0.4961 - val_accuracy: 0.7975\n",
            "Epoch 73/100\n",
            "128/128 [==============================] - 0s 4ms/step - loss: 0.4977 - accuracy: 0.7972 - val_loss: 0.4961 - val_accuracy: 0.7975\n",
            "Epoch 74/100\n",
            "128/128 [==============================] - 0s 3ms/step - loss: 0.4976 - accuracy: 0.7972 - val_loss: 0.4961 - val_accuracy: 0.7975\n",
            "Epoch 75/100\n",
            "128/128 [==============================] - 0s 3ms/step - loss: 0.4975 - accuracy: 0.7972 - val_loss: 0.4962 - val_accuracy: 0.7975\n",
            "Epoch 76/100\n",
            "128/128 [==============================] - 0s 3ms/step - loss: 0.4976 - accuracy: 0.7972 - val_loss: 0.4962 - val_accuracy: 0.7975\n",
            "Epoch 77/100\n",
            "128/128 [==============================] - 0s 3ms/step - loss: 0.4975 - accuracy: 0.7972 - val_loss: 0.4963 - val_accuracy: 0.7975\n",
            "Epoch 78/100\n",
            "128/128 [==============================] - 0s 4ms/step - loss: 0.4976 - accuracy: 0.7972 - val_loss: 0.4964 - val_accuracy: 0.7975\n",
            "Epoch 79/100\n",
            "128/128 [==============================] - 0s 3ms/step - loss: 0.4976 - accuracy: 0.7972 - val_loss: 0.4962 - val_accuracy: 0.7975\n",
            "Epoch 80/100\n",
            "128/128 [==============================] - 0s 3ms/step - loss: 0.4975 - accuracy: 0.7972 - val_loss: 0.4961 - val_accuracy: 0.7975\n",
            "Epoch 81/100\n",
            "128/128 [==============================] - 1s 5ms/step - loss: 0.4978 - accuracy: 0.7972 - val_loss: 0.4961 - val_accuracy: 0.7975\n",
            "Epoch 82/100\n",
            "128/128 [==============================] - 1s 5ms/step - loss: 0.4975 - accuracy: 0.7972 - val_loss: 0.4961 - val_accuracy: 0.7975\n",
            "Epoch 83/100\n",
            "128/128 [==============================] - 1s 6ms/step - loss: 0.4974 - accuracy: 0.7972 - val_loss: 0.4962 - val_accuracy: 0.7975\n",
            "Epoch 84/100\n",
            "128/128 [==============================] - 1s 6ms/step - loss: 0.4975 - accuracy: 0.7972 - val_loss: 0.4962 - val_accuracy: 0.7975\n",
            "Epoch 85/100\n",
            "128/128 [==============================] - 1s 6ms/step - loss: 0.4976 - accuracy: 0.7972 - val_loss: 0.4961 - val_accuracy: 0.7975\n",
            "Epoch 86/100\n",
            "128/128 [==============================] - 1s 5ms/step - loss: 0.4977 - accuracy: 0.7972 - val_loss: 0.4965 - val_accuracy: 0.7975\n",
            "Epoch 87/100\n",
            "128/128 [==============================] - 1s 7ms/step - loss: 0.4975 - accuracy: 0.7972 - val_loss: 0.4962 - val_accuracy: 0.7975\n",
            "Epoch 88/100\n",
            "128/128 [==============================] - 1s 6ms/step - loss: 0.4972 - accuracy: 0.7972 - val_loss: 0.4964 - val_accuracy: 0.7975\n",
            "Epoch 89/100\n",
            "128/128 [==============================] - 0s 4ms/step - loss: 0.4977 - accuracy: 0.7972 - val_loss: 0.4962 - val_accuracy: 0.7975\n",
            "Epoch 90/100\n",
            "128/128 [==============================] - 0s 2ms/step - loss: 0.4974 - accuracy: 0.7972 - val_loss: 0.4964 - val_accuracy: 0.7975\n",
            "Epoch 91/100\n",
            "128/128 [==============================] - 0s 2ms/step - loss: 0.4974 - accuracy: 0.7972 - val_loss: 0.4966 - val_accuracy: 0.7975\n",
            "Epoch 92/100\n",
            "128/128 [==============================] - 0s 2ms/step - loss: 0.4977 - accuracy: 0.7972 - val_loss: 0.4962 - val_accuracy: 0.7975\n",
            "Epoch 93/100\n",
            "128/128 [==============================] - 0s 2ms/step - loss: 0.4973 - accuracy: 0.7972 - val_loss: 0.4963 - val_accuracy: 0.7975\n",
            "Epoch 94/100\n",
            "128/128 [==============================] - 0s 2ms/step - loss: 0.4975 - accuracy: 0.7972 - val_loss: 0.4964 - val_accuracy: 0.7975\n",
            "Epoch 95/100\n",
            "128/128 [==============================] - 0s 2ms/step - loss: 0.4972 - accuracy: 0.7972 - val_loss: 0.4967 - val_accuracy: 0.7975\n",
            "Epoch 96/100\n",
            "128/128 [==============================] - 0s 2ms/step - loss: 0.4972 - accuracy: 0.7972 - val_loss: 0.4975 - val_accuracy: 0.7975\n",
            "Epoch 97/100\n",
            "128/128 [==============================] - 0s 2ms/step - loss: 0.4973 - accuracy: 0.7972 - val_loss: 0.4967 - val_accuracy: 0.7975\n",
            "Epoch 98/100\n",
            "128/128 [==============================] - 0s 2ms/step - loss: 0.4974 - accuracy: 0.7972 - val_loss: 0.4965 - val_accuracy: 0.7975\n",
            "Epoch 99/100\n",
            "128/128 [==============================] - 0s 2ms/step - loss: 0.4974 - accuracy: 0.7972 - val_loss: 0.4965 - val_accuracy: 0.7975\n",
            "Epoch 100/100\n",
            "128/128 [==============================] - 0s 2ms/step - loss: 0.4973 - accuracy: 0.7972 - val_loss: 0.4968 - val_accuracy: 0.7975\n"
          ]
        }
      ]
    },
    {
      "cell_type": "code",
      "source": [
        "y_pred=model.predict(X_test)"
      ],
      "metadata": {
        "colab": {
          "base_uri": "https://localhost:8080/"
        },
        "id": "X3Pv7o8ZH415",
        "outputId": "c95dbd8a-ce0b-4deb-9e72-f050c382db2e"
      },
      "execution_count": 41,
      "outputs": [
        {
          "output_type": "stream",
          "name": "stdout",
          "text": [
            "63/63 [==============================] - 0s 1ms/step\n"
          ]
        }
      ]
    },
    {
      "cell_type": "code",
      "source": [
        "y_pred"
      ],
      "metadata": {
        "colab": {
          "base_uri": "https://localhost:8080/"
        },
        "id": "eJNsQLB2IAty",
        "outputId": "f134ef80-37b6-4ddc-fed0-0b2331614859"
      },
      "execution_count": 42,
      "outputs": [
        {
          "output_type": "execute_result",
          "data": {
            "text/plain": [
              "array([[0.14105177],\n",
              "       [0.21517801],\n",
              "       [0.14105177],\n",
              "       ...,\n",
              "       [0.14105177],\n",
              "       [0.24194086],\n",
              "       [0.23491032]], dtype=float32)"
            ]
          },
          "metadata": {},
          "execution_count": 42
        }
      ]
    },
    {
      "cell_type": "code",
      "source": [
        "y_pred=np.where(y_pred>0.5,1,0)"
      ],
      "metadata": {
        "id": "QY3-_sI9IGUE"
      },
      "execution_count": 44,
      "outputs": []
    },
    {
      "cell_type": "code",
      "source": [
        "y_test"
      ],
      "metadata": {
        "colab": {
          "base_uri": "https://localhost:8080/"
        },
        "id": "T_JLRtfyI9Eh",
        "outputId": "d093bfcd-1f34-43f4-fc82-57f8dcdbc53c"
      },
      "execution_count": 45,
      "outputs": [
        {
          "output_type": "execute_result",
          "data": {
            "text/plain": [
              "9953    0\n",
              "3850    0\n",
              "4962    0\n",
              "3886    0\n",
              "5437    0\n",
              "       ..\n",
              "3919    0\n",
              "162     0\n",
              "7903    0\n",
              "2242    0\n",
              "2745    0\n",
              "Name: Exited, Length: 2000, dtype: int64"
            ]
          },
          "metadata": {},
          "execution_count": 45
        }
      ]
    },
    {
      "cell_type": "code",
      "source": [
        "from sklearn.metrics import accuracy_score\n",
        "accuracy_score(y_test,y_pred)"
      ],
      "metadata": {
        "colab": {
          "base_uri": "https://localhost:8080/"
        },
        "id": "I3GeFa9JIN5q",
        "outputId": "0b657088-f5a4-4347-c541-016a188d524b"
      },
      "execution_count": 46,
      "outputs": [
        {
          "output_type": "execute_result",
          "data": {
            "text/plain": [
              "0.7925"
            ]
          },
          "metadata": {},
          "execution_count": 46
        }
      ]
    },
    {
      "cell_type": "code",
      "source": [
        "import matplotlib.pyplot as plt\n",
        "\n",
        "plt.plot(history.history['loss'])\n",
        "plt.plot(history.history['val_loss'])"
      ],
      "metadata": {
        "colab": {
          "base_uri": "https://localhost:8080/",
          "height": 448
        },
        "id": "ajzVPCTkIT-r",
        "outputId": "e0a39207-8d9f-435d-933a-31ef3473befb"
      },
      "execution_count": 47,
      "outputs": [
        {
          "output_type": "execute_result",
          "data": {
            "text/plain": [
              "[<matplotlib.lines.Line2D at 0x7f13cef00ee0>]"
            ]
          },
          "metadata": {},
          "execution_count": 47
        },
        {
          "output_type": "display_data",
          "data": {
            "text/plain": [
              "<Figure size 640x480 with 1 Axes>"
            ],
            "image/png": "[encoded data removed]"
          },
          "metadata": {}
        }
      ]
    },
    {
      "cell_type": "code",
      "source": [
        "plt.plot(history.history['accuracy'])\n",
        "plt.plot(history.history['val_accuracy'])"
      ],
      "metadata": {
        "colab": {
          "base_uri": "https://localhost:8080/",
          "height": 448
        },
        "id": "8Uuhfd-yIflY",
        "outputId": "0d9ac3c2-f6a7-48ec-b485-6c33e15e1b74"
      },
      "execution_count": 48,
      "outputs": [
        {
          "output_type": "execute_result",
          "data": {
            "text/plain": [
              "[<matplotlib.lines.Line2D at 0x7f13ceff5810>]"
            ]
          },
          "metadata": {},
          "execution_count": 48
        },
        {
          "output_type": "display_data",
          "data": {
            "text/plain": [
              "<Figure size 640x480 with 1 Axes>"
            ],
            "image/png": "[encoded data removed]"
          },
          "metadata": {}
        }
      ]
    },
    {
      "cell_type": "code",
      "source": [],
      "metadata": {
        "id": "Uo27v6SFIoEA"
      },
      "execution_count": null,
      "outputs": []
    }
  ]
}